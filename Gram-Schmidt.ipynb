{
 "cells": [
  {
   "cell_type": "markdown",
   "id": "bf0bf4aa",
   "metadata": {},
   "source": [
    "### Procédé d'orthonormalisation de Gram-Scmidt"
   ]
  },
  {
   "cell_type": "code",
   "execution_count": 1,
   "id": "c2a14523",
   "metadata": {},
   "outputs": [],
   "source": [
    "#importation des biblio\n",
    "import numpy as np\n",
    "import matplotlib.pyplot as plt \n",
    "import scipy.stats as spc\n",
    "import scipy as sp\n",
    "from pylab import *\n",
    "from math import *"
   ]
  },
  {
   "cell_type": "code",
   "execution_count": 273,
   "id": "56a6f14f",
   "metadata": {},
   "outputs": [],
   "source": [
    "def orthonorm_gram(base):\n",
    "    '''Cette foction prend en argument une base (matrice ou chaque ligne est un vecteur de la base) et renvoi\n",
    "    une base orthonormee selon Gram-scmidt'''\n",
    "    #initialisation \n",
    "    n,m = np.shape(base)\n",
    "    #n represente la dimension de l'ev\n",
    "    U = np.transpose(base)*np.linalg.norm(base, axis= 1)**-1 #on normalise chaque vecteur \n",
    "    tab = np.zeros((n,m))\n",
    "    tab[0] = base[0]/np.linalg.norm(base[0])\n",
    "    for i in range(1,n):\n",
    "        P = np.dot(base[i],U[:,0:i])\n",
    "        a = P*U[:,0:i]\n",
    "        u = base[i]-sum(a,axis=1)\n",
    "        tab[i] = u/ np.linalg.norm(u)\n",
    "    return tab\n",
    "    "
   ]
  },
  {
   "cell_type": "code",
   "execution_count": 274,
   "id": "ee87ea02",
   "metadata": {},
   "outputs": [
    {
     "name": "stderr",
     "output_type": "stream",
     "text": [
      "/var/folders/kb/km5q_8c52hj77ctf040clxvr0000gn/T/ipykernel_81273/1240243901.py:4: RuntimeWarning: invalid value encountered in reciprocal\n",
      "  U = np.transpose(base)*np.linalg.norm(base, axis= 1)**-1\n",
      "/var/folders/kb/km5q_8c52hj77ctf040clxvr0000gn/T/ipykernel_81273/3607706501.py:7: RuntimeWarning: invalid value encountered in reciprocal\n",
      "  U = np.transpose(base)*np.linalg.norm(base, axis= 1)**-1 #on normalise chaque vecteur\n"
     ]
    },
    {
     "data": {
      "text/plain": [
       "array([[ 0.15617376,  0.31234752,  0.93704257],\n",
       "       [ 0.97326305, -0.21043525, -0.09206542],\n",
       "       [-0.60192646,  0.46078953, -0.65219441]])"
      ]
     },
     "execution_count": 274,
     "metadata": {},
     "output_type": "execute_result"
    }
   ],
   "source": [
    "#base = np.array([[3,4], [5,6]])\n",
    "base= np.array([[1,2,6], [6,0,3], [4,7,9]])\n",
    "orthonorm_gram(base )\n"
   ]
  },
  {
   "cell_type": "code",
   "execution_count": 275,
   "id": "fece476c",
   "metadata": {},
   "outputs": [
    {
     "name": "stderr",
     "output_type": "stream",
     "text": [
      "/var/folders/kb/km5q_8c52hj77ctf040clxvr0000gn/T/ipykernel_81273/1427141060.py:3: RuntimeWarning: invalid value encountered in reciprocal\n",
      "  U = np.transpose(base)*np.linalg.norm(base, axis= 1)**-1\n"
     ]
    },
    {
     "data": {
      "text/plain": [
       "array([[ 0.15617376,  0.31234752,  0.93704257],\n",
       "       [ 0.97326305, -0.21043525, -0.09206542],\n",
       "       [-0.60192646,  0.46078953, -0.65219441]])"
      ]
     },
     "execution_count": 275,
     "metadata": {},
     "output_type": "execute_result"
    }
   ],
   "source": [
    "#code step by step \n",
    "n,m = np.shape(base)\n",
    "U = np.transpose(base)*np.linalg.norm(base, axis= 1)**-1\n",
    "tab = np.zeros((n,m))\n",
    "tab[0] = base[0]/np.linalg.norm(base[0])\n",
    "P = np.dot(base[1],U[:,0:1])\n",
    "a = P*U[:,0:1]\n",
    "u = base[1]-sum(a,axis=1)\n",
    "tab[1] = u/ np.linalg.norm(u)\n",
    "P = np.dot(base[2],U[:,0:2])\n",
    "a = P*U[:,0:2]\n",
    "u = base[2]-sum(a,axis=1)\n",
    "tab[2] = u/ np.linalg.norm(u)\n",
    "tab"
   ]
  }
 ],
 "metadata": {
  "kernelspec": {
   "display_name": "Python 3 (ipykernel)",
   "language": "python",
   "name": "python3"
  },
  "language_info": {
   "codemirror_mode": {
    "name": "ipython",
    "version": 3
   },
   "file_extension": ".py",
   "mimetype": "text/x-python",
   "name": "python",
   "nbconvert_exporter": "python",
   "pygments_lexer": "ipython3",
   "version": "3.9.13"
  }
 },
 "nbformat": 4,
 "nbformat_minor": 5
}
